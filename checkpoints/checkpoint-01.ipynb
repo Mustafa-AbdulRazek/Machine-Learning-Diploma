{
 "cells": [
  {
   "cell_type": "markdown",
   "id": "18c467f2",
   "metadata": {},
   "source": [
    "# Basic Python Task"
   ]
  },
  {
   "cell_type": "code",
   "execution_count": 2,
   "id": "ec0ce186",
   "metadata": {},
   "outputs": [
    {
     "name": "stdout",
     "output_type": "stream",
     "text": [
      "num-1: 4\n",
      "num-2: 5\n",
      "odd\n"
     ]
    }
   ],
   "source": [
    "x = int(input(\"num-1: \"))\n",
    "y = int(input(\"num-2: \"))\n",
    "\n",
    "sum = x + y\n",
    "if sum%2 == 0:\n",
    "    print(\"even!\")\n",
    "else: \n",
    "    print(\"odd\")"
   ]
  },
  {
   "cell_type": "markdown",
   "id": "ce02648f",
   "metadata": {},
   "source": [
    "# Lists and Loops\n",
    "\n",
    "## Write a function list even numbers(lst) that:\n",
    "### • Takes a list of numbers as input.\n",
    "### • Returns a new list containing only the even numbers from the original list."
   ]
  },
  {
   "cell_type": "code",
   "execution_count": 5,
   "id": "c7bfdb55",
   "metadata": {},
   "outputs": [
    {
     "data": {
      "text/plain": [
       "[2, 4, 6]"
      ]
     },
     "execution_count": 5,
     "metadata": {},
     "output_type": "execute_result"
    }
   ],
   "source": [
    "def list_even_numbers(lst):\n",
    "    # return [num for num in lst if num%2==0]\n",
    "    l = []\n",
    "    for i in lst: \n",
    "        if i%2==0:\n",
    "            l.append(i)\n",
    "    return l\n",
    "\n",
    "\n",
    "ls = [1, 2, 3, 4, 5, 6]\n",
    "list_even_numbers(ls)\n",
    "# [2, 4, 6]"
   ]
  },
  {
   "cell_type": "code",
   "execution_count": null,
   "id": "b624078d",
   "metadata": {},
   "outputs": [],
   "source": []
  },
  {
   "cell_type": "code",
   "execution_count": null,
   "id": "e24ce3ed",
   "metadata": {},
   "outputs": [],
   "source": []
  },
  {
   "cell_type": "code",
   "execution_count": null,
   "id": "7632768f",
   "metadata": {},
   "outputs": [],
   "source": []
  }
 ],
 "metadata": {
  "kernelspec": {
   "display_name": "Python 3 (ipykernel)",
   "language": "python",
   "name": "python3"
  },
  "language_info": {
   "codemirror_mode": {
    "name": "ipython",
    "version": 3
   },
   "file_extension": ".py",
   "mimetype": "text/x-python",
   "name": "python",
   "nbconvert_exporter": "python",
   "pygments_lexer": "ipython3",
   "version": "3.9.13"
  }
 },
 "nbformat": 4,
 "nbformat_minor": 5
}
