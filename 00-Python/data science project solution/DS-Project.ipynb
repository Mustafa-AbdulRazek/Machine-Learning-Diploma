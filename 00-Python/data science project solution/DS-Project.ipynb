{
 "cells": [
  {
   "cell_type": "code",
   "execution_count": 33,
   "id": "e8b77771",
   "metadata": {},
   "outputs": [
    {
     "name": "stdout",
     "output_type": "stream",
     "text": [
      "129\n",
      "4\n",
      "200\n",
      "42.93845930232561\n",
      "Difficult to read\n"
     ]
    }
   ],
   "source": [
    "import my_text\n",
    "# my_text.text\n",
    "\n",
    "def count_sentences(text):\n",
    "    count = 0\n",
    "    sentence_chars = '.!?;'\n",
    "    for char in text:\n",
    "        # if char == '.' or char == '?' or char == '!' or char == ';':\n",
    "        if char in sentence_chars:\n",
    "            count = count + 1\n",
    "    return count\n",
    "\n",
    "\n",
    "    \n",
    "def count_syllables_in_word(word):\n",
    "    count = 0\n",
    "    \n",
    "    if len(word) <=3:\n",
    "        return 1\n",
    "    \n",
    "    vowels = \"aeiouAEIOU\"\n",
    "    for char in word:\n",
    "        if char in vowels:\n",
    "            count = count + 1\n",
    "    return count\n",
    "\n",
    "def count_syllables(words):\n",
    "    count = 0\n",
    "    for word in words:\n",
    "        word_count = count_syllables_in_word(word)\n",
    "        count = count + word_count\n",
    "    return count\n",
    "\n",
    "\n",
    "def output_results(score):\n",
    "    if score >= 90:\n",
    "        print('Very Easy to read')\n",
    "    elif score >=80:\n",
    "        print('Easy to read')\n",
    "    elif score >=70:\n",
    "        print('Fairly easy to read')\n",
    "    elif score >= 60:\n",
    "        print('Plain English')\n",
    "    elif score >= 50:\n",
    "        print('Fairly difficult to read')\n",
    "    elif score >=30:\n",
    "        print('Difficult to read')\n",
    "    else:\n",
    "        print('Very difficult to read')\n",
    "\n",
    "def compute_readability(text):\n",
    "    total_words = 0\n",
    "    total_sentences = 0\n",
    "    total_syllables = 0\n",
    "    score = 0\n",
    "    \n",
    "    # print(text)\n",
    "    words = text.split()\n",
    "    total_words = len(words)\n",
    "    total_sentences = count_sentences(text)\n",
    "    total_syllables = count_syllables(words)\n",
    "    score = 206.835 - 1.015 * (total_words/total_sentences) \\\n",
    "            - 84.6 * (total_syllables/total_words)\n",
    "    \n",
    "    print(total_words)\n",
    "    print(total_sentences)\n",
    "    print(total_syllables)\n",
    "    print(score)\n",
    "    output_results(score)\n",
    "    \n",
    "compute_readability(my_text.text)"
   ]
  }
 ],
 "metadata": {
  "kernelspec": {
   "display_name": "Python 3 (ipykernel)",
   "language": "python",
   "name": "python3"
  },
  "language_info": {
   "codemirror_mode": {
    "name": "ipython",
    "version": 3
   },
   "file_extension": ".py",
   "mimetype": "text/x-python",
   "name": "python",
   "nbconvert_exporter": "python",
   "pygments_lexer": "ipython3",
   "version": "3.9.13"
  }
 },
 "nbformat": 4,
 "nbformat_minor": 5
}
